{
 "cells": [
  {
   "cell_type": "code",
   "execution_count": 3,
   "metadata": {},
   "outputs": [],
   "source": [
    "import os\n",
    "import torch\n",
    "import torch.nn as nn\n",
    "import torchvision\n",
    "import kornia.augmentation as K\n",
    "import kornia.feature as F\n",
    "import sys\n",
    "import numpy as np\n",
    "import matplotlib.pyplot as plt\n",
    "import mido\n",
    "from mido import MidiFile, MidiTrack, Message\n",
    "import numpy as np"
   ]
  },
  {
   "cell_type": "code",
   "execution_count": 4,
   "metadata": {},
   "outputs": [
    {
     "name": "stdout",
     "output_type": "stream",
     "text": [
      "['.ipynb_checkpoints', 'quake2.mid', 'Untitled.ipynb']\n",
      "quake2.mid\n"
     ]
    }
   ],
   "source": [
    "print(os.listdir(os.getcwd()))\n",
    "# select quake2.mid\n",
    "f_name = list(filter(lambda x: x == 'quake2.mid', os.listdir(os.getcwd())))\n",
    "if len(f_name) <= 0:\n",
    "    raise RuntimeError('no file name specified')\n",
    "elif isinstance(f_name, list):\n",
    "        f_name = f_name[0]\n",
    "\n",
    "print(f_name)"
   ]
  },
  {
   "cell_type": "code",
   "execution_count": 5,
   "metadata": {},
   "outputs": [],
   "source": [
    "num_notes = 96\n",
    "samples_per_measure = 96\n",
    "\n",
    "def midi_to_samples(fname):\n",
    "\thas_time_sig = False\n",
    "\tflag_warning = False\n",
    "\tmid = MidiFile(fname)\n",
    "\tticks_per_beat = mid.ticks_per_beat\n",
    "\tticks_per_measure = 4 * ticks_per_beat\n",
    "\n",
    "\tfor i, track in enumerate(mid.tracks):\n",
    "\t\tfor msg in track:\n",
    "\t\t\tif msg.type == 'time_signature':\n",
    "\t\t\t\tnew_tpm = msg.numerator * ticks_per_beat * 4 / msg.denominator\n",
    "\t\t\t\tif has_time_sig and new_tpm != ticks_per_measure:\n",
    "\t\t\t\t\tflag_warning = True\n",
    "\t\t\t\tticks_per_measure = new_tpm\n",
    "\t\t\t\thas_time_sig = True\n",
    "\tif flag_warning:\n",
    "\t\tprint(\"  ^^^^^^ WARNING ^^^^^^\")\n",
    "\t\tprint(\"    \" + fname )\n",
    "\t\tprint(\"    Detected multiple distinct time signatures.\")\n",
    "\t\tprint(\"  ^^^^^^ WARNING ^^^^^^\")\n",
    "\t\treturn []\n",
    "\t\n",
    "\tall_notes = {}\n",
    "\tfor i, track in enumerate(mid.tracks):\n",
    "\t\tabs_time = 0\n",
    "\t\tfor msg in track:\n",
    "\t\t\tabs_time += msg.time\n",
    "\t\t\tif msg.type == 'note_on':\n",
    "\t\t\t\tif msg.velocity == 0:\n",
    "\t\t\t\t\tcontinue\n",
    "\t\t\t\tnote = msg.note - (128 - num_notes)/2\n",
    "\t\t\t\tassert(note >= 0 and note < num_notes)\n",
    "\t\t\t\tif note not in all_notes:\n",
    "\t\t\t\t\tall_notes[note] = []\n",
    "\t\t\t\telse:\n",
    "\t\t\t\t\tsingle_note = all_notes[note][-1]\n",
    "\t\t\t\t\tif len(single_note) == 1:\n",
    "\t\t\t\t\t\tsingle_note.append(single_note[0] + 1)\n",
    "\t\t\t\tall_notes[note].append([abs_time * samples_per_measure / ticks_per_measure])\n",
    "\t\t\telif msg.type == 'note_off':\n",
    "\t\t\t\tif len(all_notes[note][-1]) != 1:\n",
    "\t\t\t\t\tcontinue\n",
    "\t\t\t\tall_notes[note][-1].append(abs_time * samples_per_measure / ticks_per_measure)\n",
    "\tfor note in all_notes:\n",
    "\t\tfor start_end in all_notes[note]:\n",
    "\t\t\tif len(start_end) == 1:\n",
    "\t\t\t\tstart_end.append(start_end[0] + 1)\n",
    "\tsamples = []\n",
    "\tfor note in all_notes:\n",
    "\t\tfor start, end in all_notes[note]:\n",
    "\t\t\tsample_ix = int(start / samples_per_measure)\n",
    "\t\t\twhile len(samples) <= sample_ix:\n",
    "\t\t\t\tsamples.append(np.zeros((samples_per_measure, num_notes), dtype=np.uint8))\n",
    "\t\t\tsample = samples[sample_ix]\n",
    "\t\t\tstart_ix = start - sample_ix * samples_per_measure\n",
    "\t\t\tif False:\n",
    "\t\t\t\tend_ix = min(end - sample_ix * samples_per_measure, samples_per_measure)\n",
    "\t\t\t\twhile start_ix < end_ix:\n",
    "\t\t\t\t\tsample[start_ix, note] = 1\n",
    "\t\t\t\t\tstart_ix += 1\n",
    "\t\t\telse:\n",
    "\t\t\t\tsample[start_ix, note] = 1\n",
    "\treturn samples\n",
    "\n",
    "def samples_to_midi(samples, fname, ticks_per_sample, thresh=0.5):\n",
    "\tmid = MidiFile()\n",
    "\ttrack = MidiTrack()\n",
    "\tmid.tracks.append(track)\n",
    "\tticks_per_beat = mid.ticks_per_beat\n",
    "\tticks_per_measure = 4 * ticks_per_beat\n",
    "\tticks_per_sample = ticks_per_measure / samples_per_measure\n",
    "\tabs_time = 0\n",
    "\tlast_time = 0\n",
    "\tfor sample in samples:\n",
    "\t\tfor y in xrange(sample.shape[0]):\n",
    "\t\t\tabs_time += ticks_per_sample\n",
    "\t\t\tfor x in xrange(sample.shape[1]):\n",
    "\t\t\t\tnote = x + (128 - num_notes)/2\n",
    "\t\t\t\tif sample[y,x] >= thresh and (y == 0 or sample[y-1,x] < thresh):\n",
    "\t\t\t\t\tdelta_time = abs_time - last_time\n",
    "\t\t\t\t\ttrack.append(Message('note_on', note=note, velocity=127, time=delta_time))\n",
    "\t\t\t\t\tlast_time = abs_time\n",
    "\t\t\t\tif sample[y,x] >= thresh and (y == sample.shape[0]-1 or sample[y+1,x] < thresh):\n",
    "\t\t\t\t\tdelta_time = abs_time - last_time\n",
    "\t\t\t\t\ttrack.append(Message('note_off', note=note, velocity=127, time=delta_time))\n",
    "\t\t\t\t\tlast_time = abs_time\n",
    "\tmid.save(fname)"
   ]
  },
  {
   "cell_type": "code",
   "execution_count": 6,
   "metadata": {},
   "outputs": [],
   "source": [
    "def midi_to_pianoroll(f_name, **kwargs):\n",
    "    '''\n",
    "    f_name: filename as string\n",
    "    \n",
    "    - note\n",
    "    - type\n",
    "    - velocity\n",
    "    - track (with label) -> doesn't really matter we want to split these into seperate pianoroll samples\n",
    "     - TODO: important! update to 3d convolutions across tracks pretty early (after temporal convolution)\n",
    "    kwargs: dict of attributes that should be stacked into the pianoroll\n",
    "            these should be midiattr object that can have a multiplicative konstant\n",
    "    '''\n",
    "    attrs = kwargs['attrs']\n",
    "    attr_indices = dict([(key, index) for index, key in enumerate(attrs.keys())]) # dict of attr index pairs allow access to tensor index by passing message.type\n",
    "    \n",
    "    tempo = mido.bpm2tempo(kwargs['sampling_tempo'])\n",
    "    midi = MidiFile(f_name)\n",
    "    t_s  = midi.length\n",
    "    \n",
    "    ticks_per_beat = midi.ticks_per_beat\n",
    "    numerator = 4\n",
    "    denominator = 4\n",
    "    \n",
    "    T = len(midi.tracks)\n",
    "    A = len(attrs)\n",
    "    all_messages = [track for track in midi]\n",
    "    n = 0\n",
    "    times_list = []\n",
    "    all_messages.sort(key=lambda message: message.time)\n",
    "    for message in all_messages:\n",
    "        if message.is_meta:\n",
    "            #print(f'metamessage: {message}')\n",
    "            if message.type == 'end_of_track':\n",
    "                print(f'end_of_track at: {message.time}')\n",
    "            if message.type == 'set_tempo':\n",
    "                print(f'tempo: {message.tempo}')\n",
    "                tempo = message.tempo\n",
    "            if message.type == 'time_signature':\n",
    "                numerator = message.numerator\n",
    "                denominator = message.denominator        \n",
    "        times_list.append(message.time)\n",
    "        try: \n",
    "            n = max(n, message.time)\n",
    "        except:\n",
    "            pass\n",
    "        \n",
    "    ticks_per_measure = numerator * ticks_per_beat\n",
    "    print(f'time_sig: {numerator}/{denominator}')\n",
    "    plt.plot(times_list)\n",
    "    plt.show()\n",
    "    \n",
    "    # calculate how long a measure is in seconds\n",
    "    measure_duration_s = mido.tick2second(ticks_per_measure, ticks_per_beat, tempo)\n",
    "    print(measure_duration_s)\n",
    "    \n",
    "    # calculate number of measures by dividing total length by measure length (both in seconds)\n",
    "    n = int(np.ceil(t_s / measure_duration_s))\n",
    "    print(f'total measures in song: {n}')\n",
    "    \n",
    "    S_t = torch.zeros(size=(int(T), int(A), 96 * n, 96))\n",
    "    print(f'S_T.shape: {S_t.shape}')\n",
    "    \n",
    "    for t, track in enumerate(midi.tracks):\n",
    "        \n",
    "        active_notes = torch.zeros(96) #logs current activation of note at y using a float mask\n",
    "        # used as mask that sweeps over sample tensor while get messages in the order they are played            \n",
    "        abs_time = 0.\n",
    "        #A = len(midi.message types)\n",
    "        #n = total ticks / ticks_per_measure \n",
    "        # basically turns song into long ass 3d tensor [][][]....[][] of n * (96 x 96 x T) cubes\n",
    "        # note that the sample tensor will be rather sparse with a lot of zeros in their volume\n",
    "        \n",
    "        print(f'track[{t}]: {track}')\n",
    "        for m, message in enumerate(track):\n",
    "            if str(message.type) in attrs:\n",
    "                '''\n",
    "                try:\n",
    "                    pos_y = message.pos\n",
    "                except:\n",
    "                    print(f'the midi attribute {message} (time attribute != time position in track, which is pos) was marked as interesting yet has no timing information')\n",
    "                    print('this currently just puts the attribute at y = 0')\n",
    "                    pos_y = 0\n",
    "                '''\n",
    "                pos_x = abs_time / 96 #mido.second2tick(message.time, ticks_per_beat, sampling_tempo) // 96\n",
    "                pos_x = int(pos_x)\n",
    "                #print(f'pos_x : {pos_x}')\n",
    "                pos_y = message.note - (128 - num_notes)/2\n",
    "                pos_y = int(pos_y)\n",
    "                #print(f'm[{m}]: {message}')\n",
    "                if message.velocity == 0:\n",
    "                    continue\n",
    "                note = message.note - (128 - num_notes)/2\n",
    "                #assert(note >= 0 and note < num_notes)\n",
    "                attr_idx = attr_indices[message.type]\n",
    "                #print(f'attr_idx: {attr_idx}')\n",
    "                S_t[t, attr_idx, pos_x, pos_y] = float(message.velocity) / 128. \n",
    "                abs_time += message.time\n",
    "    \n",
    "    t, a, x, y = S_t.shape\n",
    "    n = x // 96\n",
    "    S_t = S_t.view((n, t, a, 96, y))\n",
    "    mask = S_t.mean(dim=(1, 2, 3, 4)) > 0.0 # mask stack elements that dont show any activation\n",
    "    keep = mask.sum() # number of stacks to keep\n",
    "    print(f'kept {keep} of {n} measures')\n",
    "    print(f'mask: {mask}')\n",
    "    mask = mask.repeat_interleave(t*a*96*y)\n",
    "    #print(S_t.view(-1).shape)\n",
    "    #print(mask.shape)\n",
    "    #print(torch.masked_select(t.view(-1), mask).view(keep, 3, 10, 10).shape)\n",
    "    \n",
    "    return torch.masked_select(S_t.view(-1), mask).view(keep, t, a, 96, y)\n",
    "\n",
    "    # uncomment when stable!!\n",
    "    #return torch.tensor(torch.masked_select(S_t.view(-1), mask).view(keep, t, a, 96, y), names=(\"Measure\", \"Track\", \"Atrribute\", \"time\", \"pitch\"))\n",
    "\n",
    "                \n",
    "        #print(f'track:{track}')"
   ]
  },
  {
   "cell_type": "code",
   "execution_count": 7,
   "metadata": {
    "scrolled": false
   },
   "outputs": [
    {
     "name": "stdout",
     "output_type": "stream",
     "text": [
      "True\n",
      "tempo: 476190\n",
      "end_of_track at: 1.8849187500000002\n",
      "time_sig: 4/4\n"
     ]
    },
    {
     "data": {
      "image/png": "[encoded data removed]",
      "text/plain": [
       "<Figure size 432x288 with 1 Axes>"
      ]
     },
     "metadata": {
      "needs_background": "light"
     },
     "output_type": "display_data"
    },
    {
     "name": "stdout",
     "output_type": "stream",
     "text": [
      "1.9047600000000002\n",
      "total measures in song: 33\n",
      "S_T.shape: torch.Size([10, 3, 3168, 96])\n",
      "track[0]: <midi track 'var1.mid' 8 messages>\n",
      "track[1]: <midi track 'Bass' 903 messages>\n",
      "track[2]: <midi track 'Hits' 179 messages>\n",
      "track[3]: <midi track 'Hits Oct' 91 messages>\n",
      "track[4]: <midi track 'Lo Square' 270 messages>\n",
      "track[5]: <midi track 'Hi Square' 270 messages>\n",
      "track[6]: <midi track 'Loop' 390 messages>\n",
      "track[7]: <midi track 'kick' 234 messages>\n",
      "track[8]: <midi track 'Hihats' 1033 messages>\n",
      "track[9]: <midi track 'Clap' 102 messages>\n",
      "kept 10 of 33 measures\n",
      "mask: tensor([False, False, False,  True, False, False,  True, False, False,  True,\n",
      "         True, False, False,  True, False, False,  True, False, False,  True,\n",
      "        False, False, False,  True, False, False,  True, False, False,  True,\n",
      "        False, False, False])\n",
      "torch.Size([4, 3, 96, 96])\n"
     ]
    },
    {
     "ename": "NameError",
     "evalue": "name 'view_pianoroll' is not defined",
     "output_type": "error",
     "traceback": [
      "\u001b[1;31m---------------------------------------------------------------------------\u001b[0m",
      "\u001b[1;31mNameError\u001b[0m                                 Traceback (most recent call last)",
      "\u001b[1;32m<ipython-input-7-49f38bd7405d>\u001b[0m in \u001b[0;36m<module>\u001b[1;34m\u001b[0m\n\u001b[0;32m      9\u001b[0m \u001b[0ms\u001b[0m \u001b[1;33m=\u001b[0m \u001b[0mmidi_to_pianoroll\u001b[0m\u001b[1;33m(\u001b[0m\u001b[0mf_name\u001b[0m\u001b[1;33m,\u001b[0m \u001b[0mattrs\u001b[0m\u001b[1;33m=\u001b[0m\u001b[0minteresting_attrs\u001b[0m\u001b[1;33m,\u001b[0m \u001b[0msampling_tempo\u001b[0m\u001b[1;33m=\u001b[0m\u001b[1;36m120.\u001b[0m\u001b[1;33m)\u001b[0m\u001b[1;33m\u001b[0m\u001b[1;33m\u001b[0m\u001b[0m\n\u001b[0;32m     10\u001b[0m \u001b[0mprint\u001b[0m\u001b[1;33m(\u001b[0m\u001b[0ms\u001b[0m\u001b[1;33m[\u001b[0m\u001b[1;36m0\u001b[0m\u001b[1;33m:\u001b[0m\u001b[1;36m4\u001b[0m\u001b[1;33m]\u001b[0m\u001b[1;33m.\u001b[0m\u001b[0msum\u001b[0m\u001b[1;33m(\u001b[0m\u001b[0mdim\u001b[0m\u001b[1;33m=\u001b[0m\u001b[1;33m(\u001b[0m\u001b[1;36m1\u001b[0m\u001b[1;33m)\u001b[0m\u001b[1;33m)\u001b[0m\u001b[1;33m.\u001b[0m\u001b[0mshape\u001b[0m\u001b[1;33m)\u001b[0m\u001b[1;33m\u001b[0m\u001b[1;33m\u001b[0m\u001b[0m\n\u001b[1;32m---> 11\u001b[1;33m \u001b[0mview_pianoroll\u001b[0m\u001b[1;33m(\u001b[0m\u001b[0ms\u001b[0m\u001b[1;33m[\u001b[0m\u001b[1;36m0\u001b[0m\u001b[1;33m:\u001b[0m\u001b[1;36m1\u001b[0m\u001b[1;33m]\u001b[0m\u001b[1;33m.\u001b[0m\u001b[0msum\u001b[0m\u001b[1;33m(\u001b[0m\u001b[0mdim\u001b[0m\u001b[1;33m=\u001b[0m\u001b[1;33m(\u001b[0m\u001b[1;36m1\u001b[0m\u001b[1;33m)\u001b[0m\u001b[1;33m)\u001b[0m \u001b[1;33m*\u001b[0m \u001b[1;36m255\u001b[0m\u001b[1;33m)\u001b[0m \u001b[1;31m# view 4 measures\u001b[0m\u001b[1;33m\u001b[0m\u001b[1;33m\u001b[0m\u001b[0m\n\u001b[0m",
      "\u001b[1;31mNameError\u001b[0m: name 'view_pianoroll' is not defined"
     ]
    }
   ],
   "source": [
    "interesting_attrs = {\n",
    "    'note_on' : 1.0,\n",
    "    'polytouch': 1.0,\n",
    "    'aftertouch': 1.0,\n",
    "    #'note_off': 1.0,\n",
    "} # basically a dict that stores what attribute contributes how much to the intensities in tensor\n",
    "print('note_on' in interesting_attrs)\n",
    "\n",
    "s = midi_to_pianoroll(f_name, attrs=interesting_attrs, sampling_tempo=120.)\n",
    "print(s[0:4].sum(dim=(1)).shape)\n",
    "view_pianoroll(s[0:1].sum(dim=(1)) * 255) # view 4 measures"
   ]
  },
  {
   "cell_type": "code",
   "execution_count": 8,
   "metadata": {},
   "outputs": [],
   "source": [
    "def musicsheet(batch_size=4, note_freq=64):\n",
    "    m = torch.zeros(4, 3, 96, 96)\n",
    "    for n in range(note_freq):\n",
    "        randx, randy = np.random.randint(96), np.random.randint(96)\n",
    "        length = np.random.randint(24)\n",
    "        a = np.random.uniform(0.5, 1.0)\n",
    "        s = np.random.uniform(0.0, a)\n",
    "        d = np.random.uniform(0.0, s)\n",
    "        randb = np.random.randint(4)\n",
    "        m[randb, 0, randx:int(randx+length), randy] = a\n",
    "        m[randb, 1, randx:int(randx+length / 3), randy] = s\n",
    "        m[randb, 2, randx:int(randx+length / 5), randy] = d\n",
    "    return m"
   ]
  },
  {
   "cell_type": "code",
   "execution_count": null,
   "metadata": {},
   "outputs": [],
   "source": []
  },
  {
   "cell_type": "code",
   "execution_count": 9,
   "metadata": {},
   "outputs": [],
   "source": [
    "#plt.imshow(m[0].transpose(0,2))"
   ]
  },
  {
   "cell_type": "code",
   "execution_count": null,
   "metadata": {},
   "outputs": [],
   "source": []
  },
  {
   "cell_type": "code",
   "execution_count": 10,
   "metadata": {},
   "outputs": [],
   "source": [
    "def log_volume(t, r=None):\n",
    "    print(f'tensor shape:{t.shape}')\n",
    "    vol = np.product(t.shape[1:])\n",
    "    r_vol = vol if not r else r\n",
    "    print(f'absolute tensor volume:{vol}')\n",
    "    print(f'volume reduction:{vol / r_vol}')\n",
    "    print(f'latent space development:{str(chr(9608)) * int(20. / (vol / r_vol))}')\n",
    "    return vol"
   ]
  },
  {
   "cell_type": "code",
   "execution_count": 11,
   "metadata": {},
   "outputs": [],
   "source": [
    "def view_pianoroll(batch, url=None):\n",
    "    fig = plt.subplot()\n",
    "    fig.set_title(url)\n",
    "    img_grid = torchvision.utils.make_grid(batch, nrow=1)\n",
    "    fig.imshow(img_grid.transpose(0, 2), url=url)\n",
    "    plt.show()"
   ]
  },
  {
   "cell_type": "code",
   "execution_count": null,
   "metadata": {},
   "outputs": [],
   "source": [
    "def tensor_memory(a):\n",
    "    print(a.element_size() * a.nelement())"
   ]
  },
  {
   "cell_type": "code",
   "execution_count": 31,
   "metadata": {
    "scrolled": false
   },
   "outputs": [
    {
     "name": "stdout",
     "output_type": "stream",
     "text": [
      "torch.Size([10, 10, 3, 96, 96])\n"
     ]
    },
    {
     "ename": "ValueError",
     "evalue": "Invalid input shape, we expect BxCxHxW. Got: torch.Size([10, 10, 3, 96, 96])",
     "output_type": "error",
     "traceback": [
      "\u001b[1;31m---------------------------------------------------------------------------\u001b[0m",
      "\u001b[1;31mValueError\u001b[0m                                Traceback (most recent call last)",
      "\u001b[1;32m<ipython-input-31-165b61d6e8e3>\u001b[0m in \u001b[0;36m<module>\u001b[1;34m\u001b[0m\n\u001b[0;32m    115\u001b[0m \u001b[1;31m#m = musicsheet()\u001b[0m\u001b[1;33m\u001b[0m\u001b[1;33m\u001b[0m\u001b[1;33m\u001b[0m\u001b[0m\n\u001b[0;32m    116\u001b[0m \u001b[0mprint\u001b[0m\u001b[1;33m(\u001b[0m\u001b[0mm\u001b[0m\u001b[1;33m.\u001b[0m\u001b[0mshape\u001b[0m\u001b[1;33m)\u001b[0m\u001b[1;33m\u001b[0m\u001b[1;33m\u001b[0m\u001b[0m\n\u001b[1;32m--> 117\u001b[1;33m \u001b[0mgfft\u001b[0m \u001b[1;33m=\u001b[0m \u001b[0mF\u001b[0m\u001b[1;33m.\u001b[0m\u001b[0mgftt_response\u001b[0m\u001b[1;33m(\u001b[0m\u001b[0mm\u001b[0m\u001b[1;33m)\u001b[0m\u001b[1;33m\u001b[0m\u001b[1;33m\u001b[0m\u001b[0m\n\u001b[0m\u001b[0;32m    118\u001b[0m \u001b[1;33m\u001b[0m\u001b[0m\n\u001b[0;32m    119\u001b[0m \u001b[0mimg_grid\u001b[0m \u001b[1;33m=\u001b[0m \u001b[0mtorchvision\u001b[0m\u001b[1;33m.\u001b[0m\u001b[0mutils\u001b[0m\u001b[1;33m.\u001b[0m\u001b[0mmake_grid\u001b[0m\u001b[1;33m(\u001b[0m\u001b[0mm\u001b[0m\u001b[1;33m,\u001b[0m \u001b[0mnrow\u001b[0m\u001b[1;33m=\u001b[0m\u001b[1;36m2\u001b[0m\u001b[1;33m)\u001b[0m\u001b[1;33m\u001b[0m\u001b[1;33m\u001b[0m\u001b[0m\n",
      "\u001b[1;32m~\\Anaconda3\\envs\\vae_composer\\lib\\site-packages\\kornia\\feature\\responses.py\u001b[0m in \u001b[0;36mgftt_response\u001b[1;34m(input, grads_mode, sigmas)\u001b[0m\n\u001b[0;32m    156\u001b[0m                         .format(type(input)))\n\u001b[0;32m    157\u001b[0m     \u001b[1;32mif\u001b[0m \u001b[1;32mnot\u001b[0m \u001b[0mlen\u001b[0m\u001b[1;33m(\u001b[0m\u001b[0minput\u001b[0m\u001b[1;33m.\u001b[0m\u001b[0mshape\u001b[0m\u001b[1;33m)\u001b[0m \u001b[1;33m==\u001b[0m \u001b[1;36m4\u001b[0m\u001b[1;33m:\u001b[0m\u001b[1;33m\u001b[0m\u001b[1;33m\u001b[0m\u001b[0m\n\u001b[1;32m--> 158\u001b[1;33m         raise ValueError(\"Invalid input shape, we expect BxCxHxW. Got: {}\"\n\u001b[0m\u001b[0;32m    159\u001b[0m                          .format(input.shape))\n\u001b[0;32m    160\u001b[0m     \u001b[0mgradients\u001b[0m\u001b[1;33m:\u001b[0m \u001b[0mtorch\u001b[0m\u001b[1;33m.\u001b[0m\u001b[0mTensor\u001b[0m \u001b[1;33m=\u001b[0m \u001b[0mspatial_gradient\u001b[0m\u001b[1;33m(\u001b[0m\u001b[0minput\u001b[0m\u001b[1;33m,\u001b[0m \u001b[0mgrads_mode\u001b[0m\u001b[1;33m)\u001b[0m\u001b[1;33m\u001b[0m\u001b[1;33m\u001b[0m\u001b[0m\n",
      "\u001b[1;31mValueError\u001b[0m: Invalid input shape, we expect BxCxHxW. Got: torch.Size([10, 10, 3, 96, 96])"
     ]
    }
   ],
   "source": [
    "\n",
    "class ComposerVAE(nn.Module):\n",
    "    \n",
    "    class MeasureCell(nn.Module):\n",
    "        ''' Auto Encoder that encodes a batch of measures for a single track into my and sig latent vectors'''\n",
    "        def __init__(self):\n",
    "            super(ComposerVAE.MeasureCell, self).__init__()\n",
    "            conv_1xnx1 = lambda n: torch.nn.Conv2d(in_channels=3, out_channels=3, kernel_size=(n, 1), stride=2)\n",
    "            \n",
    "            '''\n",
    "            self.conv_1x3x1 = conv_1xnx1(3) #needs to be stacked twice\n",
    "            self.bn_1 = torch.nn.BatchNorm2d(3, eps=1e-05, momentum=0.1, affine=True, track_running_stats=True)\n",
    "            #self.leaky_relu\n",
    "            self.conv_1x6x1 = conv_1xnx1(6) #needs to be stacked twice\n",
    "            self.conv_1x12x1 = conv_1xnx1(12) #needs to be stacked twice\n",
    "            # first spatial convolution combines a,s,d to single channel\n",
    "            self.conv_3x5x5 = torch.nn.Conv2d(in_channels=3, out_channels=1, kernel_size=(5, 5))\n",
    "            # convolution for first branch looking for melody correlations\n",
    "            self.conv_1x3x3 = torch.nn.Conv2d(in_channels=1, out_channels=1, kernel_size=(3, 3))\n",
    "            self.bn_2 = torch.nn.BatchNorm2d(1, eps=1e-05, momentum=0.1, affine=True, track_running_stats=True)\n",
    "            self.conv_1x5x5 = torch.nn.Conv2d(in_channels=1, out_channels=1, kernel_size=(5, 5))\n",
    "            '''\n",
    "            # before (measures, tracks, attributes, x, y)\n",
    "            # batch shape: (songs, measures, tracks, attributes, x, y)\n",
    "            self.conv_1x3x1 = torch.nn.\n",
    "\n",
    "            # \"Chord filters\"\n",
    "\n",
    "        def forward(self, m):\n",
    "            \n",
    "            assert m.ndim == 4 # make sure m is a batch of a * x * y measures\n",
    "            \n",
    "            #first some convolutions along the temporal(x)-Axis\n",
    "            last = log_volume(m)\n",
    "                                     #  _ _ _      _        _ _ _      _\n",
    "            m = self.conv_1x3x1(m)   # |_|_|_| -> |_| = >  |_|_|_| -> |_| \n",
    "\n",
    "            last= log_volume(m, last)\n",
    "\n",
    "            m = self.bn_1(m)         #  _ _ _      _        _ _ _ _ _ _      _\n",
    "            m = self.conv_1x3x1(m)   # |_|_|_| -> |_| = >  |_|_|_|_|_|_| -> |_|\n",
    "\n",
    "            last= log_volume(m, last)\n",
    "\n",
    "            m = self.bn_1(m)               #  _ _ _ _ _ _      _ \n",
    "            m = self.conv_1x6x1(m)         # |_|_|_|_|_|_| -> |_|\n",
    "\n",
    "            last = log_volume(m, last)     \n",
    "                                           #  _ _ _ _ _ _ _ _ _ _ _ _ \n",
    "            m = self.conv_1x12x1(m)        # |1|2|3|4|5|6|7|8|9|1|1|1|\n",
    "\n",
    "            last = log_volume(m, last)\n",
    "\n",
    "            img_grid = torchvision.utils.make_grid(m, nrow=1)\n",
    "            plt.imshow(img_grid.transpose(0, 2).detach())\n",
    "            plt.show()\n",
    "\n",
    "            # next look for some correlations in the 2d plane\n",
    "            # make sure to have extra convolutions using 'chord filters'\n",
    "            #                                               _ _ _ _ _\n",
    "            #                                                       /|  _\n",
    "            #                                                     /|/|  /|\n",
    "            #                                         _ _ _ _ _ /|/|/|       Isolate Notes normalized temporal space\n",
    "            #                                        |_|_|_|_|_|/|/|/|\n",
    "            #                                        |_|_|_|_|_|/|/|/|\n",
    "            #                                      # |_|_|_|_|_|/|/|/\n",
    "            m_branch1 = self.bn_1(m)               # |_|_|_|_|_|/|/\n",
    "            m_branch1 = self.conv_3x5x5(m_branch1) # |_|_|_|_|_|/\n",
    "\n",
    "            last = log_volume(m_branch1, last)\n",
    "\n",
    "            m_branch1 = self.bn_2(m_branch1)\n",
    "            m_branch1 = self.conv_1x3x3(m_branch1) # first convolution over spots in note space \n",
    "\n",
    "            last = log_volume(m_branch1, last)\n",
    "\n",
    "            m_branch1 = self.conv_1x5x5(m_branch1) # second convolution over spots in note space \n",
    "\n",
    "            last = log_volume(m_branch1, last)\n",
    "\n",
    "            m_branch1 = self.conv_1x5x5(m_branch1)\n",
    "\n",
    "            last = log_volume(m_branch1, last)\n",
    "            plt.imshow(m_branch1[0].transpose(0, 2).detach())\n",
    "            plt.show()\n",
    "            \n",
    "            \n",
    "    class MergerCell(nn.Module):\n",
    "        ''' AutoencoderCell that merges sampled latent vectors of MeasureCell's into my and sig latent vectors'''\n",
    "        def __init__(self):\n",
    "            super(ComposerVAE.MergerCell, self).__init__()\n",
    "            self.conv_3x3 = torch.nn.Conv2d(in_channels=1, out_channels=1, kernel_size=(3, 3))\n",
    "            \n",
    "        def forward(self, t):\n",
    "            assert t.ndim == 5 # make sure that t is a batch of s * t * m * a * x * y\n",
    "            return self.conv_3x3(t)\n",
    "            \n",
    "    def __init__(self, max_tracks=10):\n",
    "        super(ComposerVAE, self).__init__()\n",
    "        self.merger_cell = self.MergerCell()\n",
    "        self.measure_cell = self.MeasureCell()\n",
    "        \n",
    "    \n",
    "    def forward(self, s):\n",
    "        # takes a minibatch of s * m * t * x * y\n",
    "        # songs: s\n",
    "        # measures: m\n",
    "        # tracks: t\n",
    "        # length: x\n",
    "        # width: y\n",
    "        \n",
    "        # pass each track through measure cell\n",
    "        #s = s.transpose(1, 2) #switch measure and track dimension\n",
    "        mc_s = self.measure_cell(s) # sample of measure cell (batch of tracks)\n",
    "        f_s = self.merger_cell(mc_s) # merge samples for different tracks into one latent vector describing the song\n",
    "        print(f_s)\n",
    "            \n",
    "    \n",
    "model = ComposerVAE()\n",
    "measure, track, attr, x, y = s.shape\n",
    "m = s #musicsheet()\n",
    "#m = musicsheet()\n",
    "print(m.shape)\n",
    "gfft = F.gftt_response(m)\n",
    "\n",
    "img_grid = torchvision.utils.make_grid(m, nrow=2)\n",
    "view_pianoroll(m, url='m')\n",
    "'''plt.figure.set_title('m')\n",
    "plt.imshow(img_grid.transpose(0, 2))\n",
    "plt.show()'''\n",
    "\n",
    "print(f'gfft.shape:{gfft.shape}')\n",
    "fft_grid = torchvision.utils.make_grid(gfft, nrow=1)\n",
    "view_pianoroll(fft_grid, url='fft')\n",
    "'''plt.figure(title='fft')\n",
    "plt.imshow(fft_grid.transpose(0, 2))\n",
    "plt.show()'''\n",
    "\n",
    "#plt.imshow(m[0].transpose(0, 2))\n",
    "model(m)"
   ]
  },
  {
   "cell_type": "code",
   "execution_count": 14,
   "metadata": {},
   "outputs": [
    {
     "data": {
      "text/plain": [
       "0.6763664860353102"
      ]
     },
     "execution_count": 14,
     "metadata": {},
     "output_type": "execute_result"
    }
   ],
   "source": [
    "np.random.uniform(0.5, 1.0)"
   ]
  },
  {
   "cell_type": "code",
   "execution_count": 101,
   "metadata": {},
   "outputs": [
    {
     "data": {
      "text/plain": [
       "298080"
      ]
     },
     "execution_count": 101,
     "metadata": {},
     "output_type": "execute_result"
    }
   ],
   "source": [
    "np.product((45, 72, 92))"
   ]
  },
  {
   "cell_type": "code",
   "execution_count": 410,
   "metadata": {},
   "outputs": [],
   "source": [
    "attrs = {'h': 1.0, 'k': 0.5}\n",
    "s = dict([(key, index) for index, key in enumerate(attrs.keys())])"
   ]
  },
  {
   "cell_type": "code",
   "execution_count": 411,
   "metadata": {},
   "outputs": [
    {
     "data": {
      "text/plain": [
       "0"
      ]
     },
     "execution_count": 411,
     "metadata": {},
     "output_type": "execute_result"
    }
   ],
   "source": [
    "s['h']"
   ]
  },
  {
   "cell_type": "code",
   "execution_count": 627,
   "metadata": {},
   "outputs": [
    {
     "name": "stdout",
     "output_type": "stream",
     "text": [
      "tensor(2)\n",
      "tensor([ True, False, False,  True])\n",
      "torch.Size([1200])\n"
     ]
    },
    {
     "data": {
      "image/png": "[encoded data removed]",
      "text/plain": [
       "<Figure size 432x288 with 1 Axes>"
      ]
     },
     "metadata": {
      "needs_background": "light"
     },
     "output_type": "display_data"
    },
    {
     "name": "stdout",
     "output_type": "stream",
     "text": [
      "torch.Size([2, 3, 10, 10])\n"
     ]
    }
   ],
   "source": [
    "t = torch.randn(4, 3, 10, 10)\n",
    "mask = t.mean(dim=(1, 2, 3)) > 0.0\n",
    "keep = mask.sum()\n",
    "print(keep)\n",
    "print(mask)\n",
    "mask = mask.repeat_interleave(3*10*10)\n",
    "print(mask.shape)\n",
    "plt.plot(mask)\n",
    "plt.show()\n",
    "print(torch.masked_select(t.view(-1), mask).view(keep, 3, 10, 10).shape)"
   ]
  },
  {
   "cell_type": "code",
   "execution_count": 18,
   "metadata": {},
   "outputs": [
    {
     "ename": "AssertionError",
     "evalue": "",
     "output_type": "error",
     "traceback": [
      "\u001b[1;31m---------------------------------------------------------------------------\u001b[0m",
      "\u001b[1;31mAssertionError\u001b[0m                            Traceback (most recent call last)",
      "\u001b[1;32m<ipython-input-18-5a6ec4db2c37>\u001b[0m in \u001b[0;36m<module>\u001b[1;34m\u001b[0m\n\u001b[1;32m----> 1\u001b[1;33m \u001b[1;32massert\u001b[0m \u001b[0misinstance\u001b[0m\u001b[1;33m(\u001b[0m\u001b[1;36m8\u001b[0m\u001b[1;33m,\u001b[0m \u001b[0mstr\u001b[0m\u001b[1;33m)\u001b[0m\u001b[1;33m\u001b[0m\u001b[1;33m\u001b[0m\u001b[0m\n\u001b[0m\u001b[0;32m      2\u001b[0m \u001b[0mprint\u001b[0m\u001b[1;33m(\u001b[0m\u001b[1;34m'daggi'\u001b[0m\u001b[1;33m)\u001b[0m\u001b[1;33m\u001b[0m\u001b[1;33m\u001b[0m\u001b[0m\n",
      "\u001b[1;31mAssertionError\u001b[0m: "
     ]
    }
   ],
   "source": [
    "assert isinstance(8, str)\n",
    "print('daggi')"
   ]
  },
  {
   "cell_type": "code",
   "execution_count": null,
   "metadata": {},
   "outputs": [],
   "source": [
    "class foo():\n",
    "    def \n",
    "    class bar():\n",
    "        "
   ]
  }
 ],
 "metadata": {
  "kernelspec": {
   "display_name": "Python 3",
   "language": "python",
   "name": "python3"
  },
  "language_info": {
   "codemirror_mode": {
    "name": "ipython",
    "version": 3
   },
   "file_extension": ".py",
   "mimetype": "text/x-python",
   "name": "python",
   "nbconvert_exporter": "python",
   "pygments_lexer": "ipython3",
   "version": "3.8.3"
  }
 },
 "nbformat": 4,
 "nbformat_minor": 4
}
